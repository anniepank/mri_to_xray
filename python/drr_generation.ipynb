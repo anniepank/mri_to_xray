{
 "cells": [
  {
   "cell_type": "code",
   "execution_count": 250,
   "metadata": {},
   "outputs": [
    {
     "name": "stdout",
     "output_type": "stream",
     "text": [
      "(512, 512, 115)\n"
     ]
    },
    {
     "data": {
      "text/plain": [
       "<matplotlib.image.AxesImage at 0x7f681fec0cc0>"
      ]
     },
     "execution_count": 250,
     "metadata": {},
     "output_type": "execute_result"
    },
    {
     "data": {
      "image/png": "[encoded data removed]",
      "text/plain": [
       "<Figure size 432x288 with 1 Axes>"
      ]
     },
     "metadata": {
      "needs_background": "light"
     },
     "output_type": "display_data"
    }
   ],
   "source": [
    "import nibabel\n",
    "import scipy.misc\n",
    "from nilearn import plotting\n",
    "from nilearn.datasets import MNI152_FILE_PATH\n",
    "import matplotlib.pyplot as plt\n",
    "import numpy as np\n",
    "import math\n",
    "import numpy.linalg as npl\n",
    "\n",
    "class Camera:\n",
    "    def __init__(self,  position, frame_distance, frame_size, frame_resolution):\n",
    "        self.position = position\n",
    "        self.frame_distance = frame_distance\n",
    "        self.frame_size = frame_size\n",
    "        self.frame_resolution = frame_resolution\n",
    "\n",
    "\n",
    "class Ray:\n",
    "\n",
    "    def __init__(self, i, j, camera):\n",
    "        self.camera = camera\n",
    "\n",
    "        frameX = camera.frame_size[0] / camera.frame_resolution[0] * i\n",
    "        frameY = camera.frame_size[1] / camera.frame_resolution[1] * j\n",
    "        frameTMP = math.sqrt(frameX ** 2 + frameY ** 2)\n",
    "\n",
    "        c = math.sqrt(camera.frame_distance ** 2 + frameTMP ** 2)\n",
    "        self.coefficients = [frameX / c, frameY / c, camera.frame_distance / c]\n",
    "    def get_world_position(self, v):\n",
    "        return [v * self.coefficients[0] + camera.position[0],\n",
    "                     v * self.coefficients[1] + camera.position[1],\n",
    "                     v * self.coefficients[2] + camera.position[2]]\n",
    "\n",
    "img = nibabel.load('/home/anya/Documents/sem6/kursach/init_data/case-5eb926ce-b138-4cb6-84f8-f9805724339d/CT_body.nii.gz')\n",
    "img_data = img.get_fdata()\n",
    "print(img_data.shape)\n",
    "\n",
    "voxToWorld = img.affine\n",
    "worldToVox = npl.inv(voxToWorld)\n",
    "\n",
    "min_z = -1200\n",
    "\n",
    "def get_voxel_index(position):\n",
    "    # voxel size is 1 (no)\n",
    "    \n",
    "    result = np.dot(position, worldToVox[:3])\n",
    "    \n",
    "    #result[2] *= -1\n",
    "    \n",
    "    result[0] += img_data.shape[0] // 2 # x -r\n",
    "    result[1] += img_data.shape[2] // 2 # y s\n",
    "    result[2] += img_data.shape[1] // 2 # z -a\n",
    "\n",
    "    #result[1] *= -1\n",
    "    #result[0] *= -1\n",
    "    \n",
    "    \n",
    "    if result[0] > 0 and result[1] > 0 and result[2] > 0:\n",
    "        return [math.floor(result[0]), math.floor(result[2]), math.floor(result[1])]\n",
    "    else:\n",
    "        return [-1, -1, -1]\n",
    "\n",
    "def norm(x):\n",
    "    min = -1024\n",
    "    max = 2438\n",
    "    \n",
    "    return (x - min) / (max - min)\n",
    "\n",
    "def get_voxel_color(index):\n",
    "    # r = math.sqrt(index[0] ** 2 + index[1] ** 2 ) \n",
    "    # r = math.sqrt(r ** 2 + index[2] ** 2) * math.sin(index[0] / 10) * 2\n",
    "    # r = math.sqrt(index[0] ** 2 + index[2] ** 2)\n",
    "\n",
    "    ''' if index[1] > 25:\n",
    "        return 0\n",
    "    return 0.025 if index[1] > r else 0\n",
    "\n",
    "    return 0.025 if r < 50 else 0 '''\n",
    "\n",
    "    if index == [-1, -1, -1]:\n",
    "        return 0\n",
    "\n",
    "    try:\n",
    "        value = img_data[tuple(index)]\n",
    "        if value == -1000:\n",
    "            return 0 # this is an artificial value for black voxels\n",
    "        return norm(value)\n",
    "    except:\n",
    "        return 0\n",
    "\n",
    "def ray_trace(ray):\n",
    "    step = 0.5\n",
    "    v = 0\n",
    "    last_voxel_index = [0, 0, 0]\n",
    "    current_color = 0\n",
    "    current_opacity = 0\n",
    "    \n",
    "    image_started = False\n",
    "\n",
    "    while True:\n",
    "        v += step\n",
    "        voxel_index = get_voxel_index(ray.get_world_position(v))\n",
    "        if voxel_index == last_voxel_index and voxel_index != [-1, -1, -1]:\n",
    "            continue\n",
    "        last_voxel_index = voxel_index\n",
    "        color = get_voxel_color(voxel_index)\n",
    "        voxel_color = color\n",
    "        voxel_opacity = color\n",
    "        \n",
    "        color *= 1 - current_opacity\n",
    "        current_color += color * voxel_opacity\n",
    "        current_opacity += (1 - current_opacity) * voxel_opacity\n",
    "        if v > 1300 or current_opacity > 0.99:\n",
    "            break\n",
    "        \n",
    "    return current_color\n",
    "\n",
    "camera = Camera([0, 0, -900], 300, [200, 200], [30, 30])\n",
    "\n",
    "drr = np.zeros(camera.frame_resolution)\n",
    "\n",
    "for i in range(-camera.frame_resolution[0] // 2, camera.frame_resolution[0] // 2):\n",
    "    for j in range(-camera.frame_resolution[1] // 2, camera.frame_resolution[1] // 2):\n",
    "        ray = Ray(i, j, camera)\n",
    "        color = ray_trace(ray)\n",
    "        #print(color)\n",
    "        drr[i + camera.frame_resolution[0] // 2, j + camera.frame_resolution[1] // 2] = color\n",
    "\n",
    "\n",
    "fig, axes = plt.subplots(1, 1)\n",
    "plt.imshow(drr, cmap=\"gray\", origin=\"lower\", vmin=0, vmax=1)\n"
   ]
  },
  {
   "cell_type": "code",
   "execution_count": null,
   "metadata": {},
   "outputs": [],
   "source": [
    "plt.imshow(drr, cmap=\"gray\", origin=\"lower\", vmin=0, vmax=1)"
   ]
  },
  {
   "cell_type": "code",
   "execution_count": 223,
   "metadata": {},
   "outputs": [
    {
     "data": {
      "text/plain": [
       "<Figure size 432x288 with 0 Axes>"
      ]
     },
     "metadata": {},
     "output_type": "display_data"
    }
   ],
   "source": [
    "plt.savefig('from_side.png')"
   ]
  },
  {
   "cell_type": "code",
   "execution_count": null,
   "metadata": {},
   "outputs": [],
   "source": []
  }
 ],
 "metadata": {
  "kernelspec": {
   "display_name": "Python 3",
   "language": "python",
   "name": "python3"
  },
  "language_info": {
   "codemirror_mode": {
    "name": "ipython",
    "version": 3
   },
   "file_extension": ".py",
   "mimetype": "text/x-python",
   "name": "python",
   "nbconvert_exporter": "python",
   "pygments_lexer": "ipython3",
   "version": "3.7.3"
  }
 },
 "nbformat": 4,
 "nbformat_minor": 2
}
